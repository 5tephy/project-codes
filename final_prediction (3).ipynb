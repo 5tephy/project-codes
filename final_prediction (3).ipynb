{
 "cells": [
  {
   "cell_type": "markdown",
   "id": "05e90150-78fd-41a0-9223-e15faecb3ad3",
   "metadata": {},
   "source": [
    "<font size=\"5\">**FINAL MODEL**</font>"
   ]
  },
  {
   "cell_type": "code",
   "execution_count": 2,
   "id": "86a46166-ca7b-4eba-bd70-8bbd0f8e28b9",
   "metadata": {
    "scrolled": true
   },
   "outputs": [
    {
     "name": "stdout",
     "output_type": "stream",
     "text": [
      "Requirement already satisfied: PrettyTable in c:\\users\\stephy\\appdata\\local\\programs\\python\\python312\\lib\\site-packages (3.10.0)\n",
      "Requirement already satisfied: wcwidth in c:\\users\\stephy\\appdata\\local\\programs\\python\\python312\\lib\\site-packages (from PrettyTable) (0.2.13)\n"
     ]
    }
   ],
   "source": [
    "!pip install PrettyTable"
   ]
  },
  {
   "cell_type": "code",
   "execution_count": 3,
   "id": "d9573800-7719-4a51-a783-c9b4d16bd9e4",
   "metadata": {},
   "outputs": [],
   "source": [
    "import matplotlib.pyplot as plt\n",
    "import pandas as pd\n",
    "import numpy as np\n",
    "from sklearn import datasets, linear_model, metrics\n",
    "import pickle\n",
    "from prettytable import PrettyTable\n",
    "from sklearn.metrics import r2_score,mean_squared_error\n",
    "import math"
   ]
  },
  {
   "cell_type": "code",
   "execution_count": 4,
   "id": "e482028d-c015-41fd-85fd-9b5392210d4b",
   "metadata": {},
   "outputs": [],
   "source": [
    "import pandas as pd\n",
    "df = pd.read_csv(\"C:/Users/Stephy/Desktop/FINAL_YEAR_PROJECT/datasets/mix_proportion _dataset/civil_data_old.csv\")"
   ]
  },
  {
   "cell_type": "code",
   "execution_count": 5,
   "id": "88e4b49e-2d37-4e1a-948d-4b2cea0fd59b",
   "metadata": {},
   "outputs": [],
   "source": [
    "X = df.iloc[:, [0,1,2,5,6,7,8,9,10,11,12,13,14,18,19,20]].values\n",
    "#X = dataset.iloc[:, [2, 3]].values\n",
    "# here we define y as a multi output matrix\n",
    "y = df.iloc[:, [3,4,15,16,17]].values"
   ]
  },
  {
   "cell_type": "code",
   "execution_count": 6,
   "id": "3727d137-c53e-4944-a4ca-483b2ade4e30",
   "metadata": {},
   "outputs": [],
   "source": [
    "## train_test split\n",
    "from sklearn.model_selection import train_test_split\n",
    "X_train, X_test, y_train, y_test = train_test_split(X, y, test_size=0.2, random_state=42)\n",
    "# from keras import backend as K\n",
    "# def rmse(y_pred, y_true):\n",
    "#     return K.sqrt(K.mean(K.square(y_pred - y_true)))"
   ]
  },
  {
   "cell_type": "code",
   "execution_count": 7,
   "id": "0bc850ad-e8f6-4ead-ba42-1cde2d888b1e",
   "metadata": {},
   "outputs": [],
   "source": [
    "fck_user_input = 27.5\n",
    "cement_type= 3"
   ]
  },
  {
   "cell_type": "code",
   "execution_count": 8,
   "id": "4a09c7cb-22fa-458d-a24b-2d2955b051bf",
   "metadata": {},
   "outputs": [],
   "source": [
    "if fck_user_input>=10 and fck_user_input<20:\n",
    "     fck = fck_user_input +(1.65 * 3.5)\n",
    "elif fck_user_input>=20 and fck_user_input<30:\n",
    "     fck = fck_user_input +(1.65 * 4)\n",
    "elif fck_user_input>=30 and fck_user_input<65:\n",
    "     fck = fck_user_input +(1.65 * 5)\n",
    "elif fck_user_input>=65 and fck_user_input<=80:\n",
    "     fck = fck_user_input +(1.65 * 6)    "
   ]
  },
  {
   "cell_type": "code",
   "execution_count": 9,
   "id": "999e5b74-09a0-4339-9393-07e3e1a05817",
   "metadata": {},
   "outputs": [],
   "source": [
    "if fck_user_input>=10 and fck_user_input<20:\n",
    "     fck1 = fck_user_input + 5\n",
    "elif fck_user_input>=20 and fck_user_input<30:\n",
    "     fck1 = fck_user_input + 5.5\n",
    "elif fck_user_input>=30 and fck_user_input<65:\n",
    "     fck1 = fck_user_input + 6.5\n",
    "elif fck_user_input>=65:\n",
    "     fck1 = fck_user_input + 8   "
   ]
  },
  {
   "cell_type": "code",
   "execution_count": 10,
   "id": "f4ba5244-f712-442b-962c-7ccda6d4d391",
   "metadata": {},
   "outputs": [],
   "source": [
    "if fck>fck1:\n",
    "    fck=fck\n",
    "else:\n",
    "    fck=fck1"
   ]
  },
  {
   "cell_type": "code",
   "execution_count": 11,
   "id": "38413059-992e-4619-a977-bfe595982bfc",
   "metadata": {},
   "outputs": [
    {
     "name": "stdout",
     "output_type": "stream",
     "text": [
      "34.1\n"
     ]
    }
   ],
   "source": [
    "print(fck)"
   ]
  },
  {
   "cell_type": "code",
   "execution_count": 12,
   "id": "c9d1c36b-5378-4111-bdbf-839ad1210844",
   "metadata": {},
   "outputs": [],
   "source": [
    "model1 = pickle.load(open('C:/Users/Stephy/Downloads/model1.sav','rb'))"
   ]
  },
  {
   "cell_type": "code",
   "execution_count": 13,
   "id": "1ff59aa5-3235-4831-94e7-c44204ccff77",
   "metadata": {},
   "outputs": [],
   "source": [
    "model2 = pickle.load(open('C:/Users/Stephy/Downloads/model2.sav','rb'))"
   ]
  },
  {
   "cell_type": "code",
   "execution_count": 14,
   "id": "df52c125-9e74-4daa-b71e-6500e0d74738",
   "metadata": {},
   "outputs": [],
   "source": [
    "model3 = pickle.load(open('C:/Users/Stephy/Downloads/model3.sav','rb'))"
   ]
  },
  {
   "cell_type": "code",
   "execution_count": 15,
   "id": "f8d6701f-c3d0-4c5a-b8ac-db4d08a590cc",
   "metadata": {},
   "outputs": [
    {
     "name": "stdout",
     "output_type": "stream",
     "text": [
      "model3\n",
      "[[0.53640155]]\n"
     ]
    },
    {
     "name": "stderr",
     "output_type": "stream",
     "text": [
      "C:\\Users\\Stephy\\AppData\\Local\\Programs\\Python\\Python312\\Lib\\site-packages\\sklearn\\base.py:493: UserWarning: X does not have valid feature names, but LinearRegression was fitted with feature names\n",
      "  warnings.warn(\n"
     ]
    }
   ],
   "source": [
    "if cement_type == 4:\n",
    "    pred=model1.predict([[fck]])\n",
    "    print(\"model1\")\n",
    "    print(pred)\n",
    "elif cement_type == 2 or cement_type == 1:\n",
    "    pred = model2.predict([[fck]])\n",
    "    print(\"model2\")\n",
    "    print(pred)\n",
    "else:\n",
    "    pred= model3.predict([[fck]])\n",
    "    print(\"model3\")\n",
    "    print(pred)"
   ]
  },
  {
   "cell_type": "code",
   "execution_count": 16,
   "id": "e657eddf-b8f6-4937-aecc-64d78e1fe608",
   "metadata": {},
   "outputs": [],
   "source": [
    "if cement_type==3:\n",
    "    ad_mix_model = pickle.load(open('C:/Users/Stephy/Desktop/FINAL_YEAR_PROJECT/models/dt_model_admixture_model1.sav','rb'))\n",
    "elif cement_type==1:\n",
    "    ad_mix_model = pickle.load(open('C:/Users/Stephy/Desktop/FINAL_YEAR_PROJECT/models/dt_model_admixture_model2.sav','rb'))\n",
    "else:\n",
    "    ad_mix_model = pickle.load(open('C:/Users/Stephy/Desktop/FINAL_YEAR_PROJECT/models/dt_model_admixture_model3.sav','rb'))"
   ]
  },
  {
   "cell_type": "code",
   "execution_count": 17,
   "id": "eb7d75cb-b3ab-4bcf-b44f-7c46b618a577",
   "metadata": {},
   "outputs": [
    {
     "name": "stdout",
     "output_type": "stream",
     "text": [
      "+--------------------+-----------------+----------------+\n",
      "| Admixture quantity | Cement Quantity | Water Quantity |\n",
      "+--------------------+-----------------+----------------+\n",
      "|        1.28        |      320.0      |     144.0      |\n",
      "+--------------------+-----------------+----------------+\n"
     ]
    }
   ],
   "source": [
    "table1 = PrettyTable([\"Admixture quantity\", \"Cement Quantity\", \"Water Quantity\"])\n",
    "water_cement_ratio = pred[0][0]\n",
    "ADMIXTURE_type =1\n",
    "grade = 2\n",
    "x_predict = [[grade,ADMIXTURE_type,water_cement_ratio]]\n",
    "y_pred = ad_mix_model.predict(x_predict)\n",
    "for row in y_pred:\n",
    "    table1.add_row([row[0], row[1], row[2]])\n",
    "print(table1)"
   ]
  },
  {
   "cell_type": "code",
   "execution_count": 18,
   "id": "287f7bfd-574d-41f3-bd04-48a17cec6383",
   "metadata": {},
   "outputs": [],
   "source": [
    "grid_search_model = pickle.load(open('C:/Users/Stephy/Desktop/FINAL_YEAR_PROJECT/models/final_model1.sav','rb'))\n",
    "dt_model = pickle.load(open('C:/Users/Stephy/Downloads/decision_tree_model1.sav','rb'))\n",
    "rf_model = pickle.load(open('C:/Users/Stephy/Desktop/FINAL_YEAR_PROJECT/models/mix_proportion models/RF_model.sav','rb'))\n",
    "xg_model = pickle.load(open('C:/Users/Stephy/Downloads/xboost_model.sav','rb'))\n",
    "mo = pickle.load(open('C:/Users/Stephy/Desktop/FINAL_YEAR_PROJECT/MOUTPUT_REGRESSOR_CHAIN.sav','rb'))\n",
    "lass_reg =  pickle.load(open('C:/Users/Stephy/Desktop/FINAL_YEAR_PROJECT/mutioutput_chain/lasso.sav','rb'))\n",
    "ridge_model =  pickle.load(open('C:/Users/Stephy/Desktop/FINAL_YEAR_PROJECT/mutioutput_chain/ridge1.sav','rb'))\n",
    "xg_boost =  pickle.load(open('C:/Users/Stephy/Desktop/FINAL_YEAR_PROJECT/mutioutput_chain/xboost_model.sav','rb'))"
   ]
  },
  {
   "cell_type": "code",
   "execution_count": 19,
   "id": "0ff683db-24df-46b4-a9ec-2a8c9fb21e22",
   "metadata": {},
   "outputs": [],
   "source": [
    "GRADE = 2\n",
    "cement_type = 3\n",
    "cement_quantity = y_pred[0][1]\n",
    "water_quantity = y_pred[0][2]\n",
    "ADMIXTURE_type = 1\n",
    "ADMIXTURE_quantity =  y_pred[0][0]\n",
    "admixture_sp_gr = 1.08\n",
    "COARSE = 2.7\n",
    "FINE =2.6\n",
    "CEMENT =3.12\n",
    "COARSE_WA=0.55\n",
    "FINE_WA=2.78\n",
    "slump = 100\n",
    "TARGEtfck = fck\n",
    "C_W = pred[0][0]"
   ]
  },
  {
   "cell_type": "markdown",
   "id": "1645632d-1ec1-4132-8a9e-27baa93c8e68",
   "metadata": {},
   "source": [
    "1. KNN WITH GRID SEARCH CROSS VALIDATION"
   ]
  },
  {
   "cell_type": "code",
   "execution_count": 20,
   "id": "54130aad-cc41-465d-8ad1-6a4c1b23d8b4",
   "metadata": {
    "scrolled": true
   },
   "outputs": [
    {
     "name": "stdout",
     "output_type": "stream",
     "text": [
      "+------------------+--------------------+------------------------------+\n",
      "|        FA        |         CA         | Charecteristic Strength(fck) |\n",
      "+------------------+--------------------+------------------------------+\n",
      "| 700.876947368421 | 1225.1158947368422 |      34.865263157894745      |\n",
      "+------------------+--------------------+------------------------------+\n"
     ]
    }
   ],
   "source": [
    "x_new = [[GRADE,cement_type,cement_quantity,water_quantity,fck,ADMIXTURE_type,ADMIXTURE_quantity,admixture_sp_gr,COARSE,FINE,CEMENT,COARSE_WA,FINE_WA,slump,TARGEtfck,C_W]]\n",
    "y_new_grid = grid_search_model.predict(x_new)\n",
    "\n",
    "table1 = PrettyTable([\"FA\",\"CA\",\"Charecteristic Strength(fck)\"])\n",
    "for row in y_new_grid:\n",
    "    table1.add_row([row[0], row[1], row[2]])\n",
    "print(table1)"
   ]
  },
  {
   "cell_type": "code",
   "execution_count": 21,
   "id": "75c7d54c-de43-4340-982f-03111d56e995",
   "metadata": {},
   "outputs": [
    {
     "data": {
      "text/plain": [
       "-0.035649013540234954"
      ]
     },
     "execution_count": 21,
     "metadata": {},
     "output_type": "execute_result"
    }
   ],
   "source": [
    "y_pred1 = grid_search_model.predict(X_test)\n",
    "r2 = r2_score(y_test,y_pred1)\n",
    "r2"
   ]
  },
  {
   "cell_type": "code",
   "execution_count": 22,
   "id": "686b4410-8477-4cfc-ba5c-d7c5855a6a5c",
   "metadata": {},
   "outputs": [
    {
     "data": {
      "text/plain": [
       "array([35.01297368, 37.79222807,  3.67688596, 27.07492105, 14.81993684])"
      ]
     },
     "execution_count": 22,
     "metadata": {},
     "output_type": "execute_result"
    }
   ],
   "source": [
    "sum = 0\n",
    "for i in range(len(X_test)):\n",
    "    sum += abs(y_test[i] - y_pred1[i])\n",
    "mae = sum/len(X_test)\n",
    "mae"
   ]
  },
  {
   "cell_type": "code",
   "execution_count": 23,
   "id": "4b348607-b2dd-4fc0-bd43-813b014fb8c8",
   "metadata": {},
   "outputs": [
    {
     "data": {
      "text/plain": [
       "983.4293122003003"
      ]
     },
     "execution_count": 23,
     "metadata": {},
     "output_type": "execute_result"
    }
   ],
   "source": [
    "mean_squared_error(y_test,y_pred1)"
   ]
  },
  {
   "cell_type": "code",
   "execution_count": 24,
   "id": "589d34ba-97d3-4551-a437-7c7f24822bf9",
   "metadata": {},
   "outputs": [
    {
     "data": {
      "text/plain": [
       "31.359676532137573"
      ]
     },
     "execution_count": 24,
     "metadata": {},
     "output_type": "execute_result"
    }
   ],
   "source": [
    "mse = np.square(np.subtract(y_test,y_pred1)).mean()\n",
    "rmse = math.sqrt(mse)\n",
    "rmse"
   ]
  },
  {
   "cell_type": "markdown",
   "id": "db2b89ba-bd62-4aa3-a889-b45f43e44844",
   "metadata": {},
   "source": [
    "2. RANDOM FOREST PREDICTION"
   ]
  },
  {
   "cell_type": "code",
   "execution_count": 25,
   "id": "76f55b72-7d89-485b-98ea-8f414eb43044",
   "metadata": {
    "scrolled": true
   },
   "outputs": [
    {
     "name": "stdout",
     "output_type": "stream",
     "text": [
      "+-------------------+--------------------+------------------------------+\n",
      "|         FA        |         CA         | Charecteristic Strength(fck) |\n",
      "+-------------------+--------------------+------------------------------+\n",
      "| 700.3094399999995 | 1242.1844999999992 |      34.786449999999974      |\n",
      "+-------------------+--------------------+------------------------------+\n"
     ]
    }
   ],
   "source": [
    "x_new = [[GRADE,cement_type,cement_quantity,water_quantity,fck,ADMIXTURE_type,ADMIXTURE_quantity,admixture_sp_gr,COARSE,FINE,CEMENT,COARSE_WA,FINE_WA,slump,TARGEtfck,C_W]]\n",
    "y_new_rf = rf_model.predict(x_new)\n",
    "table1 = PrettyTable([\"FA\",\"CA\",\"Charecteristic Strength(fck)\"])\n",
    "for row in y_new_rf:\n",
    "    table1.add_row([row[0], row[1], row[2]])\n",
    "print(table1)"
   ]
  },
  {
   "cell_type": "code",
   "execution_count": 26,
   "id": "11b3365a-fa6f-4c15-8134-821a69c2bfa7",
   "metadata": {},
   "outputs": [
    {
     "data": {
      "text/plain": [
       "0.29579716875366857"
      ]
     },
     "execution_count": 26,
     "metadata": {},
     "output_type": "execute_result"
    }
   ],
   "source": [
    "y_pred2 = rf_model.predict(X_test)\n",
    "r2 = r2_score(y_test,y_pred2)\n",
    "r2"
   ]
  },
  {
   "cell_type": "code",
   "execution_count": 27,
   "id": "8f80612d-8474-41e9-908a-da279e71bf61",
   "metadata": {},
   "outputs": [
    {
     "data": {
      "text/plain": [
       "638.4534944760079"
      ]
     },
     "execution_count": 27,
     "metadata": {},
     "output_type": "execute_result"
    }
   ],
   "source": [
    "mean_squared_error(y_test,y_pred2)"
   ]
  },
  {
   "cell_type": "code",
   "execution_count": 28,
   "id": "0d0085e2-7f19-433a-951e-e0e0220e8bb7",
   "metadata": {},
   "outputs": [
    {
     "data": {
      "text/plain": [
       "25.26763729508574"
      ]
     },
     "execution_count": 28,
     "metadata": {},
     "output_type": "execute_result"
    }
   ],
   "source": [
    "mse = np.square(np.subtract(y_test,y_pred2)).mean()\n",
    "rmse = math.sqrt(mse)\n",
    "rmse"
   ]
  },
  {
   "cell_type": "code",
   "execution_count": 29,
   "id": "3f1e2cba-cb30-467d-bb69-e03a54018b45",
   "metadata": {},
   "outputs": [
    {
     "data": {
      "text/plain": [
       "array([20.07330417, 32.083925  ,  2.84577083, 22.86885762, 14.05234069])"
      ]
     },
     "execution_count": 29,
     "metadata": {},
     "output_type": "execute_result"
    }
   ],
   "source": [
    "sum = 0\n",
    "for i in range(len(X_test)):\n",
    "    sum += abs(y_test[i] - y_pred2[i])\n",
    "mae = sum/len(X_test)\n",
    "mae"
   ]
  },
  {
   "cell_type": "markdown",
   "id": "2c283cfa-f7b0-47f7-83f7-92b38c9ce5cf",
   "metadata": {},
   "source": [
    "3. LASSO REGRESSION"
   ]
  },
  {
   "cell_type": "code",
   "execution_count": 30,
   "id": "ee3f0287-9090-4001-8b4d-a0fde640a068",
   "metadata": {
    "scrolled": true
   },
   "outputs": [
    {
     "name": "stdout",
     "output_type": "stream",
     "text": [
      "+-------------------+--------------------+------------------------------+\n",
      "|         FA        |         CA         | Charecteristic Strength(fck) |\n",
      "+-------------------+--------------------+------------------------------+\n",
      "| 746.2980370278802 | 1149.6346882766593 |      35.55357019267814       |\n",
      "+-------------------+--------------------+------------------------------+\n"
     ]
    }
   ],
   "source": [
    "x_new = [[GRADE,cement_type,cement_quantity,water_quantity,fck,ADMIXTURE_type,ADMIXTURE_quantity,admixture_sp_gr,COARSE,FINE,CEMENT,COARSE_WA,FINE_WA,slump,TARGEtfck,C_W]]\n",
    "y_new_lasso = lass_reg.predict(x_new)\n",
    "table1 = PrettyTable([\"FA\",\"CA\",\"Charecteristic Strength(fck)\"])\n",
    "for row in y_new_lasso:\n",
    "    table1.add_row([row[0], row[1], row[2]])\n",
    "print(table1)"
   ]
  },
  {
   "cell_type": "code",
   "execution_count": 31,
   "id": "6c194711-cef3-4b77-a777-928e34f26050",
   "metadata": {},
   "outputs": [
    {
     "data": {
      "text/plain": [
       "0.22404453587534454"
      ]
     },
     "execution_count": 31,
     "metadata": {},
     "output_type": "execute_result"
    }
   ],
   "source": [
    "y_pred3 = lass_reg.predict(X_test)\n",
    "r2 = r2_score(y_test,y_pred3)\n",
    "r2"
   ]
  },
  {
   "cell_type": "code",
   "execution_count": 32,
   "id": "5e0aa89b-5f9a-4b0f-a66a-9f9c770d3a61",
   "metadata": {},
   "outputs": [
    {
     "data": {
      "text/plain": [
       "707.7050810342901"
      ]
     },
     "execution_count": 32,
     "metadata": {},
     "output_type": "execute_result"
    }
   ],
   "source": [
    "mean_squared_error(y_test,y_pred3)"
   ]
  },
  {
   "cell_type": "code",
   "execution_count": 33,
   "id": "e9f2ca03-7ad1-4f6f-b6ae-81a68a73d8a0",
   "metadata": {},
   "outputs": [
    {
     "data": {
      "text/plain": [
       "26.602726947331735"
      ]
     },
     "execution_count": 33,
     "metadata": {},
     "output_type": "execute_result"
    }
   ],
   "source": [
    "mse = np.square(np.subtract(y_test,y_pred3)).mean()\n",
    "rmse = math.sqrt(mse)\n",
    "rmse"
   ]
  },
  {
   "cell_type": "code",
   "execution_count": 34,
   "id": "5c79e480-10a6-4128-8f1a-42453af29ac0",
   "metadata": {},
   "outputs": [
    {
     "data": {
      "text/plain": [
       "array([28.14053089, 24.31716976,  0.62574248, 22.05844867, 15.70469165])"
      ]
     },
     "execution_count": 34,
     "metadata": {},
     "output_type": "execute_result"
    }
   ],
   "source": [
    "sum = 0\n",
    "for i in range(len(X_test)):\n",
    "    sum += abs(y_test[i] - y_pred3[i])\n",
    "mae = sum/len(X_test)\n",
    "mae"
   ]
  },
  {
   "cell_type": "markdown",
   "id": "da5cda8a-bbf1-40c6-ba6f-397be5075123",
   "metadata": {},
   "source": [
    "4. RIDGE REGRESSSION PREDICTION"
   ]
  },
  {
   "cell_type": "code",
   "execution_count": 35,
   "id": "09647627-dac3-4c87-8a4d-b95b480309d2",
   "metadata": {
    "scrolled": true
   },
   "outputs": [
    {
     "name": "stdout",
     "output_type": "stream",
     "text": [
      "+------------------+--------------------+------------------------------+\n",
      "|        FA        |         CA         | Charecteristic Strength(fck) |\n",
      "+------------------+--------------------+------------------------------+\n",
      "| 700.876947368421 | 1225.1158947368422 |      34.865263157894745      |\n",
      "+------------------+--------------------+------------------------------+\n"
     ]
    }
   ],
   "source": [
    "x_new = [[GRADE,cement_type,cement_quantity,water_quantity,fck,ADMIXTURE_type,ADMIXTURE_quantity,admixture_sp_gr,COARSE,FINE,CEMENT,COARSE_WA,FINE_WA,slump,TARGEtfck,C_W]]\n",
    "y_new_ridge = ridge_model.predict(x_new)\n",
    "table1 = PrettyTable([\"FA\",\"CA\",\"Charecteristic Strength(fck)\"])\n",
    "for row in y_new_grid:\n",
    "    table1.add_row([row[0], row[1], row[2]])\n",
    "print(table1)"
   ]
  },
  {
   "cell_type": "code",
   "execution_count": 36,
   "id": "bb391fce-0e28-4ff5-9c48-f8c14c49ce74",
   "metadata": {},
   "outputs": [
    {
     "data": {
      "text/plain": [
       "0.32988804005040523"
      ]
     },
     "execution_count": 36,
     "metadata": {},
     "output_type": "execute_result"
    }
   ],
   "source": [
    "y_pred4 = ridge_model.predict(X_test)\n",
    "r2 = r2_score(y_test,y_pred4)\n",
    "r2"
   ]
  },
  {
   "cell_type": "code",
   "execution_count": 37,
   "id": "00b9bf33-3463-47b3-bc18-b59a8622679a",
   "metadata": {},
   "outputs": [
    {
     "data": {
      "text/plain": [
       "24.892369817581997"
      ]
     },
     "execution_count": 37,
     "metadata": {},
     "output_type": "execute_result"
    }
   ],
   "source": [
    "mse = np.square(np.subtract(y_test,y_pred4)).mean()\n",
    "rmse = math.sqrt(mse)\n",
    "rmse"
   ]
  },
  {
   "cell_type": "code",
   "execution_count": 38,
   "id": "80d3aa3d-03a9-4996-9e0c-05a040391b07",
   "metadata": {},
   "outputs": [
    {
     "data": {
      "text/plain": [
       "array([26.65731272, 23.26142502,  0.60800137, 20.16121241, 14.46400806])"
      ]
     },
     "execution_count": 38,
     "metadata": {},
     "output_type": "execute_result"
    }
   ],
   "source": [
    "sum = 0\n",
    "for i in range(len(X_test)):\n",
    "    sum += abs(y_test[i] - y_pred4[i])\n",
    "mae = sum/len(X_test)\n",
    "mae"
   ]
  },
  {
   "cell_type": "markdown",
   "id": "a8f2d065-b61f-4627-8247-d17eeb9a05bb",
   "metadata": {},
   "source": [
    "5. XGBOOST PREDICTION"
   ]
  },
  {
   "cell_type": "code",
   "execution_count": 139,
   "id": "50863306-c159-4996-86c4-6e91c12cb28b",
   "metadata": {
    "scrolled": true
   },
   "outputs": [
    {
     "name": "stdout",
     "output_type": "stream",
     "text": [
      "+----------+-----------+------------------------------+\n",
      "|    FA    |     CA    | Charecteristic Strength(fck) |\n",
      "+----------+-----------+------------------------------+\n",
      "| 733.5394 | 1180.5951 |          34.144444           |\n",
      "+----------+-----------+------------------------------+\n"
     ]
    }
   ],
   "source": [
    "x_new = [[GRADE,cement_type,cement_quantity,water_quantity,fck,ADMIXTURE_type,ADMIXTURE_quantity,admixture_sp_gr,COARSE,FINE,CEMENT,COARSE_WA,FINE_WA,slump,TARGEtfck,C_W]]\n",
    "y_new_boost = xg_boost.predict(x_new)\n",
    "table1 = PrettyTable([\"FA\",\"CA\",\"Charecteristic Strength(fck)\"])\n",
    "for row in y_new_boost:\n",
    "    table1.add_row([row[0], row[1], row[2]])\n",
    "print(table1)"
   ]
  },
  {
   "cell_type": "code",
   "execution_count": 140,
   "id": "696fdb1f-f0fc-46d3-b3b8-5e38d85345f9",
   "metadata": {},
   "outputs": [
    {
     "data": {
      "text/plain": [
       "0.9770005318493935"
      ]
     },
     "execution_count": 140,
     "metadata": {},
     "output_type": "execute_result"
    }
   ],
   "source": [
    "y_pred5 = xg_boost.predict(X_test)\n",
    "r2 = r2_score(y_test,y_pred5)\n",
    "r2"
   ]
  },
  {
   "cell_type": "code",
   "execution_count": 141,
   "id": "40856150-c6ff-44b0-b434-026e34c1dfd4",
   "metadata": {},
   "outputs": [
    {
     "data": {
      "text/plain": [
       "4.889680635523921"
      ]
     },
     "execution_count": 141,
     "metadata": {},
     "output_type": "execute_result"
    }
   ],
   "source": [
    "mse = np.square(np.subtract(y_test,y_pred5)).mean()\n",
    "rmse = math.sqrt(mse)\n",
    "rmse"
   ]
  },
  {
   "cell_type": "code",
   "execution_count": 142,
   "id": "95544840-8df4-4c9e-b199-120f7432006d",
   "metadata": {},
   "outputs": [
    {
     "data": {
      "text/plain": [
       "array([1.72074504, 3.12774373, 0.15011921, 1.81885136, 2.01411705])"
      ]
     },
     "execution_count": 142,
     "metadata": {},
     "output_type": "execute_result"
    }
   ],
   "source": [
    "sum = 0\n",
    "for i in range(len(X_test)):\n",
    "    sum += abs(y_test[i] - y_pred5[i])\n",
    "mae = sum/len(X_test)\n",
    "mae"
   ]
  },
  {
   "cell_type": "code",
   "execution_count": null,
   "id": "c6a52588-80d0-4403-aa91-0ad8227e2f6c",
   "metadata": {},
   "outputs": [],
   "source": []
  },
  {
   "cell_type": "code",
   "execution_count": 149,
   "id": "23469742-f39e-40f6-af1e-dccbf98c2aca",
   "metadata": {
    "scrolled": true
   },
   "outputs": [],
   "source": [
    "if ADMIXTURE_type == 1:\n",
    "    carbon_emission1 = y_pred[0][1] * 0.870 + y_pred[0][2] * 0.01 + 0.004 * y_new_grid[0][0] + y_new_grid[0][1] * 0.046 + y_pred[0][0]*0.9 \n",
    "    carbon_emission2 =y_pred[0][1] * 0.870 + y_pred[0][2] * 0.01 + 0.004 * y_new_rf[0][0] + y_new_rf[0][1] * 0.046 + y_pred[0][0]*0.9 \n",
    "    carbon_emission3 =y_pred[0][1]  * 0.870 + y_pred[0][2] * 0.01 + 0.004 * y_new_lasso[0][0] + y_new_lasso[0][1] * 0.046 + y_pred[0][0]*0.9 \n",
    "    carbon_emission4 = y_pred[0][1] * 0.870 + y_pred[0][2] * 0.01 + 0.004 * y_new_ridge[0][0] + y_new_ridge[0][1] * 0.046 + y_pred[0][0]*0.9 \n",
    "    carbon_emission5 = y_pred[0][1] * 0.870 + y_pred[0][2] * 0.01 + 0.004 * y_new_boost[0][0] + y_new_boost[0][1] * 0.046 + y_pred[0][0]*0.9 \n",
    "else:\n",
    "    carbon_emission1 = y_pred[0][1]* 0.870 + y_pred[0][2] * 0.01 +  0.004 * y_new_grid[0][0] + y_new_grid[0][1] * 0.046 + y_pred[0][0]*2.4 \n",
    "    carbon_emission2 =  y_pred[0][1]* 0.870 + y_pred[0][2] * 0.01 +  0.004 * y_new_rf[0][0] + y_new_rf[0][1] * 0.046 + y_pred[0][0]*2.4\n",
    "    carbon_emission3 =  y_pred[0][1]* 0.870 + y_pred[0][2] * 0.01 +  0.004 * y_new_lasso[0][0] + y_new_lasso[0][1] * 0.046 + y_pred[0][0]*2.4\n",
    "    carbon_emission4 = y_pred[0][1]* 0.870 + y_pred[0][2] * 0.01 +  0.004 * y_new_ridge[0][0] + y_new_ridge[0][1] * 0.046 + y_pred[0][0]*2.4\n",
    "    carbon_emission5 = y_pred[0][1]* 0.870 + y_pred[0][2] * 0.01 +  0.004 * y_new_boost[0][0] + y_new_boost[0][1] * 0.046 + y_pred[0][0]*2.4"
   ]
  },
  {
   "cell_type": "code",
   "execution_count": 150,
   "id": "57af645e-3b6a-4f44-95d6-2921f2431499",
   "metadata": {
    "scrolled": true
   },
   "outputs": [
    {
     "name": "stdout",
     "output_type": "stream",
     "text": [
      "340.1508389473684\n"
     ]
    }
   ],
   "source": [
    "print(carbon_emission1)"
   ]
  },
  {
   "cell_type": "code",
   "execution_count": 151,
   "id": "39504265-96ac-4fa4-ae83-f49c1eeda683",
   "metadata": {
    "scrolled": true
   },
   "outputs": [
    {
     "name": "stdout",
     "output_type": "stream",
     "text": [
      "340.9337247599999\n"
     ]
    }
   ],
   "source": [
    "print(carbon_emission2)"
   ]
  },
  {
   "cell_type": "code",
   "execution_count": 146,
   "id": "1b8dd91d-aa0f-43f1-8f69-8c7afbd3182f",
   "metadata": {
    "scrolled": true
   },
   "outputs": [
    {
     "name": "stdout",
     "output_type": "stream",
     "text": [
      "336.86038780883786\n"
     ]
    }
   ],
   "source": [
    "print(carbon_emission3)"
   ]
  },
  {
   "cell_type": "code",
   "execution_count": 152,
   "id": "f188d71d-2bd9-489d-9e7f-178bd60fb1b4",
   "metadata": {},
   "outputs": [
    {
     "name": "stdout",
     "output_type": "stream",
     "text": [
      "335.66914330900653\n"
     ]
    }
   ],
   "source": [
    "print(carbon_emission4)"
   ]
  },
  {
   "cell_type": "code",
   "execution_count": 153,
   "id": "f5736079-5936-4136-a6c0-e7705eb46425",
   "metadata": {},
   "outputs": [
    {
     "name": "stdout",
     "output_type": "stream",
     "text": [
      "338.2335319824219\n"
     ]
    }
   ],
   "source": [
    "print(carbon_emission5)"
   ]
  },
  {
   "cell_type": "markdown",
   "id": "d6080c3a-6a4b-4329-8de9-d738e67a17e0",
   "metadata": {},
   "source": [
    "EVALUATING THE MODELS"
   ]
  },
  {
   "cell_type": "code",
   "execution_count": 102,
   "id": "5b7117d7-f5c1-4875-8b7a-8e98410e31c8",
   "metadata": {},
   "outputs": [
    {
     "name": "stdout",
     "output_type": "stream",
     "text": [
      "RMSE 44.245140932687406\n",
      "Measure of deterimination of K-nn model is :  -0.035649013540234954\n"
     ]
    },
    {
     "data": {
      "text/plain": [
       "31.359676532137577"
      ]
     },
     "execution_count": 102,
     "metadata": {},
     "output_type": "execute_result"
    }
   ],
   "source": [
    "## finding RMSE for training data\n",
    "from sklearn.metrics import mean_squared_error\n",
    "from math import sqrt\n",
    "y_pred = grid_search_model.predict(X_train)\n",
    "mse = mean_squared_error(y_train, y_pred)\n",
    "rmse = sqrt(mse)\n",
    "print(\"RMSE\",rmse)\n",
    "knn_R_squared=grid_search_model.score(X_test,y_test)\n",
    "print(\"Measure of deterimination of K-nn model is : \",knn_R_squared)\n",
    "## finding RMSE for test data\n",
    "y_pred = grid_search_model.predict(X_test)\n",
    "mse = mean_squared_error(y_test, y_pred)\n",
    "rmse = sqrt(mse)\n",
    "rmse"
   ]
  },
  {
   "cell_type": "code",
   "execution_count": 22,
   "id": "f949c11a-c856-4887-8301-ff3dfc583589",
   "metadata": {},
   "outputs": [
    {
     "name": "stdout",
     "output_type": "stream",
     "text": [
      "RMSE 0.0\n",
      "Measure of deterimination of DEcision tree model is :  -1.366574428623694\n"
     ]
    },
    {
     "data": {
      "text/plain": [
       "45.213103330063994"
      ]
     },
     "execution_count": 22,
     "metadata": {},
     "output_type": "execute_result"
    }
   ],
   "source": [
    "## finding RMSE for training data\n",
    "from sklearn.metrics import mean_squared_error\n",
    "from math import sqrt\n",
    "y_pred = dt_model.predict(X_train)\n",
    "mse = mean_squared_error(y_train, y_pred)\n",
    "rmse = sqrt(mse)\n",
    "print(\"RMSE\",rmse)\n",
    "knn_R_squared=dt_model.score(X_test,y_test)\n",
    "print(\"Measure of deterimination of DEcision tree model is : \",knn_R_squared)\n",
    "## finding RMSE for test data\n",
    "y_pred = dt_model.predict(X_test)\n",
    "mse = mean_squared_error(y_test, y_pred)\n",
    "rmse = sqrt(mse)\n",
    "rmse"
   ]
  },
  {
   "cell_type": "code",
   "execution_count": 23,
   "id": "825b6118-cff2-44b2-8632-ae11a95826d6",
   "metadata": {},
   "outputs": [
    {
     "name": "stdout",
     "output_type": "stream",
     "text": [
      "RMSE 12.311565221479368\n",
      "Measure of deterimination of random forest model is :  -0.07974786057153865\n"
     ]
    },
    {
     "data": {
      "text/plain": [
       "32.99532171785472"
      ]
     },
     "execution_count": 23,
     "metadata": {},
     "output_type": "execute_result"
    }
   ],
   "source": [
    "## finding RMSE for training data\n",
    "from sklearn.metrics import mean_squared_error\n",
    "from math import sqrt\n",
    "y_pred = rf_model.predict(X_train)\n",
    "mse = mean_squared_error(y_train, y_pred)\n",
    "rmse = sqrt(mse)\n",
    "print(\"RMSE\",rmse)\n",
    "knn_R_squared=rf_model.score(X_test,y_test)\n",
    "print(\"Measure of deterimination of random forest model is : \",knn_R_squared)\n",
    "## finding RMSE for test data\n",
    "y_pred = rf_model.predict(X_test)\n",
    "mse = mean_squared_error(y_test, y_pred)\n",
    "rmse = sqrt(mse)\n",
    "rmse"
   ]
  },
  {
   "cell_type": "code",
   "execution_count": 24,
   "id": "a7038d68-7f7d-402a-af9f-aa7168fa9e5c",
   "metadata": {},
   "outputs": [
    {
     "name": "stdout",
     "output_type": "stream",
     "text": [
      "RMSE 0.0009744063651118419\n",
      "Measure of deterimination of XGBOOST model is :  0.999999940307846\n"
     ]
    },
    {
     "data": {
      "text/plain": [
       "0.0013713448787278566"
      ]
     },
     "execution_count": 24,
     "metadata": {},
     "output_type": "execute_result"
    }
   ],
   "source": [
    "## finding RMSE for training data\n",
    "from sklearn.metrics import mean_squared_error\n",
    "from math import sqrt\n",
    "y_pred = xg_model.predict(X_train)\n",
    "mse = mean_squared_error(y_train, y_pred)\n",
    "rmse = sqrt(mse)\n",
    "print(\"RMSE\",rmse)\n",
    "knn_R_squared=xg_model.score(X_test,y_test)\n",
    "print(\"Measure of deterimination of XGBOOST model is : \",knn_R_squared)\n",
    "## finding RMSE for test data\n",
    "y_pred = xg_model.predict(X_test)\n",
    "mse = mean_squared_error(y_test, y_pred)\n",
    "rmse = sqrt(mse)\n",
    "rmse"
   ]
  },
  {
   "cell_type": "code",
   "execution_count": null,
   "id": "60c5ee63-559f-4286-91e6-cc24f91d3425",
   "metadata": {},
   "outputs": [],
   "source": []
  },
  {
   "cell_type": "code",
   "execution_count": null,
   "id": "bfaf07d2-e30c-48a1-9b76-4626bd16b892",
   "metadata": {},
   "outputs": [],
   "source": []
  }
 ],
 "metadata": {
  "kernelspec": {
   "display_name": "Python 3 (ipykernel)",
   "language": "python",
   "name": "python3"
  },
  "language_info": {
   "codemirror_mode": {
    "name": "ipython",
    "version": 3
   },
   "file_extension": ".py",
   "mimetype": "text/x-python",
   "name": "python",
   "nbconvert_exporter": "python",
   "pygments_lexer": "ipython3",
   "version": "3.12.2"
  }
 },
 "nbformat": 4,
 "nbformat_minor": 5
}
