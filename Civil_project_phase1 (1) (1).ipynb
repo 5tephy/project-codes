{
 "cells": [
  {
   "cell_type": "markdown",
   "metadata": {},
   "source": [
    "<font size=\"5\">**LINEAR REGRESSION FOR W/C RATIO PREDICTION**</font>"
   ]
  },
  {
   "cell_type": "code",
   "execution_count": 34,
   "metadata": {
    "id": "LxBMB3WQjDkZ"
   },
   "outputs": [],
   "source": [
    "import matplotlib.pyplot as plt\n",
    "import pandas as pd\n",
    "import numpy as np\n",
    "from sklearn import datasets, linear_model, metrics\n",
    "import pickle"
   ]
  },
  {
   "cell_type": "code",
   "execution_count": 35,
   "metadata": {
    "id": "p_kkRy9zs_Xt"
   },
   "outputs": [],
   "source": [
    "path = \"wc vs curve 1.csv\"\n",
    "df_bonus = pd.read_csv('C:/Users/Stephy/Desktop/FINAL_YEAR_PROJECT/datasets/cwr_dataset/wc vs curve 1.csv')"
   ]
  },
  {
   "cell_type": "code",
   "execution_count": 13,
   "metadata": {
    "colab": {
     "base_uri": "https://localhost:8080/",
     "height": 363
    },
    "id": "mI2iXrnWt1kW",
    "outputId": "7b864bca-3a84-426a-9c6c-325b4436ebb6"
   },
   "outputs": [
    {
     "data": {
      "text/html": [
       "<div>\n",
       "<style scoped>\n",
       "    .dataframe tbody tr th:only-of-type {\n",
       "        vertical-align: middle;\n",
       "    }\n",
       "\n",
       "    .dataframe tbody tr th {\n",
       "        vertical-align: top;\n",
       "    }\n",
       "\n",
       "    .dataframe thead th {\n",
       "        text-align: right;\n",
       "    }\n",
       "</style>\n",
       "<table border=\"1\" class=\"dataframe\">\n",
       "  <thead>\n",
       "    <tr style=\"text-align: right;\">\n",
       "      <th></th>\n",
       "      <th>W/C</th>\n",
       "      <th>CURVE1</th>\n",
       "    </tr>\n",
       "  </thead>\n",
       "  <tbody>\n",
       "    <tr>\n",
       "      <th>0</th>\n",
       "      <td>0.247830</td>\n",
       "      <td>60.039604</td>\n",
       "    </tr>\n",
       "    <tr>\n",
       "      <th>1</th>\n",
       "      <td>0.262297</td>\n",
       "      <td>57.188119</td>\n",
       "    </tr>\n",
       "    <tr>\n",
       "      <th>2</th>\n",
       "      <td>0.270000</td>\n",
       "      <td>55.726400</td>\n",
       "    </tr>\n",
       "    <tr>\n",
       "      <th>3</th>\n",
       "      <td>0.281103</td>\n",
       "      <td>53.544554</td>\n",
       "    </tr>\n",
       "    <tr>\n",
       "      <th>4</th>\n",
       "      <td>0.299910</td>\n",
       "      <td>50.534653</td>\n",
       "    </tr>\n",
       "    <tr>\n",
       "      <th>5</th>\n",
       "      <td>0.318716</td>\n",
       "      <td>47.207921</td>\n",
       "    </tr>\n",
       "    <tr>\n",
       "      <th>6</th>\n",
       "      <td>0.335353</td>\n",
       "      <td>44.990099</td>\n",
       "    </tr>\n",
       "    <tr>\n",
       "      <th>7</th>\n",
       "      <td>0.349096</td>\n",
       "      <td>42.772277</td>\n",
       "    </tr>\n",
       "    <tr>\n",
       "      <th>8</th>\n",
       "      <td>0.366456</td>\n",
       "      <td>40.237624</td>\n",
       "    </tr>\n",
       "    <tr>\n",
       "      <th>9</th>\n",
       "      <td>0.381646</td>\n",
       "      <td>38.019802</td>\n",
       "    </tr>\n",
       "  </tbody>\n",
       "</table>\n",
       "</div>"
      ],
      "text/plain": [
       "        W/C     CURVE1\n",
       "0  0.247830  60.039604\n",
       "1  0.262297  57.188119\n",
       "2  0.270000  55.726400\n",
       "3  0.281103  53.544554\n",
       "4  0.299910  50.534653\n",
       "5  0.318716  47.207921\n",
       "6  0.335353  44.990099\n",
       "7  0.349096  42.772277\n",
       "8  0.366456  40.237624\n",
       "9  0.381646  38.019802"
      ]
     },
     "execution_count": 13,
     "metadata": {},
     "output_type": "execute_result"
    }
   ],
   "source": [
    "df_bonus.head(10)"
   ]
  },
  {
   "cell_type": "code",
   "execution_count": 12,
   "metadata": {
    "colab": {
     "base_uri": "https://localhost:8080/",
     "height": 363
    },
    "id": "mI2iXrnWt1kW",
    "outputId": "7b864bca-3a84-426a-9c6c-325b4436ebb6"
   },
   "outputs": [
    {
     "data": {
      "text/html": [
       "<div>\n",
       "<style scoped>\n",
       "    .dataframe tbody tr th:only-of-type {\n",
       "        vertical-align: middle;\n",
       "    }\n",
       "\n",
       "    .dataframe tbody tr th {\n",
       "        vertical-align: top;\n",
       "    }\n",
       "\n",
       "    .dataframe thead th {\n",
       "        text-align: right;\n",
       "    }\n",
       "</style>\n",
       "<table border=\"1\" class=\"dataframe\">\n",
       "  <thead>\n",
       "    <tr style=\"text-align: right;\">\n",
       "      <th></th>\n",
       "      <th>W/C</th>\n",
       "      <th>CURVE1</th>\n",
       "    </tr>\n",
       "  </thead>\n",
       "  <tbody>\n",
       "    <tr>\n",
       "      <th>0</th>\n",
       "      <td>0.247830</td>\n",
       "      <td>60.039604</td>\n",
       "    </tr>\n",
       "    <tr>\n",
       "      <th>1</th>\n",
       "      <td>0.262297</td>\n",
       "      <td>57.188119</td>\n",
       "    </tr>\n",
       "    <tr>\n",
       "      <th>2</th>\n",
       "      <td>0.270000</td>\n",
       "      <td>55.726400</td>\n",
       "    </tr>\n",
       "    <tr>\n",
       "      <th>3</th>\n",
       "      <td>0.281103</td>\n",
       "      <td>53.544554</td>\n",
       "    </tr>\n",
       "    <tr>\n",
       "      <th>4</th>\n",
       "      <td>0.299910</td>\n",
       "      <td>50.534653</td>\n",
       "    </tr>\n",
       "    <tr>\n",
       "      <th>5</th>\n",
       "      <td>0.318716</td>\n",
       "      <td>47.207921</td>\n",
       "    </tr>\n",
       "    <tr>\n",
       "      <th>6</th>\n",
       "      <td>0.335353</td>\n",
       "      <td>44.990099</td>\n",
       "    </tr>\n",
       "    <tr>\n",
       "      <th>7</th>\n",
       "      <td>0.349096</td>\n",
       "      <td>42.772277</td>\n",
       "    </tr>\n",
       "    <tr>\n",
       "      <th>8</th>\n",
       "      <td>0.366456</td>\n",
       "      <td>40.237624</td>\n",
       "    </tr>\n",
       "    <tr>\n",
       "      <th>9</th>\n",
       "      <td>0.381646</td>\n",
       "      <td>38.019802</td>\n",
       "    </tr>\n",
       "  </tbody>\n",
       "</table>\n",
       "</div>"
      ],
      "text/plain": [
       "        W/C     CURVE1\n",
       "0  0.247830  60.039604\n",
       "1  0.262297  57.188119\n",
       "2  0.270000  55.726400\n",
       "3  0.281103  53.544554\n",
       "4  0.299910  50.534653\n",
       "5  0.318716  47.207921\n",
       "6  0.335353  44.990099\n",
       "7  0.349096  42.772277\n",
       "8  0.366456  40.237624\n",
       "9  0.381646  38.019802"
      ]
     },
     "execution_count": 12,
     "metadata": {},
     "output_type": "execute_result"
    }
   ],
   "source": [
    "df_bonus.head(10)"
   ]
  },
  {
   "cell_type": "code",
   "execution_count": 13,
   "metadata": {
    "id": "a4g34EJht8zc"
   },
   "outputs": [],
   "source": [
    "x_data = df_bonus[['CURVE1']]\n"
   ]
  },
  {
   "cell_type": "code",
   "execution_count": 14,
   "metadata": {
    "id": "fC_-yEbnvCoF"
   },
   "outputs": [],
   "source": [
    "y_data = df_bonus[['W/C']]"
   ]
  },
  {
   "cell_type": "code",
   "execution_count": 15,
   "metadata": {
    "id": "rvJJjZwfvSML"
   },
   "outputs": [],
   "source": [
    "from sklearn.model_selection import train_test_split\n",
    "X_train, X_test, y_train, y_test = train_test_split(x_data, y_data, test_size=0.4,\n",
    "                                                    random_state=1)"
   ]
  },
  {
   "cell_type": "code",
   "execution_count": 16,
   "metadata": {
    "colab": {
     "base_uri": "https://localhost:8080/",
     "height": 514
    },
    "id": "iCuYvO_Rvglk",
    "outputId": "420afd5c-b37b-4408-fa09-e0f9b71ad7c8"
   },
   "outputs": [
    {
     "name": "stdout",
     "output_type": "stream",
     "text": [
      "Coefficients:  [[-0.0089051]]\n",
      "Variance score: 0.9835387188015827\n"
     ]
    },
    {
     "data": {
      "image/png": "[encoded data removed]",
      "text/plain": [
       "<Figure size 640x480 with 1 Axes>"
      ]
     },
     "metadata": {},
     "output_type": "display_data"
    }
   ],
   "source": [
    "# create linear regression object\n",
    "reg = linear_model.LinearRegression()\n",
    "\n",
    "# train the model using the training sets\n",
    "reg.fit(X_train, y_train)\n",
    "\n",
    "# regression coefficients\n",
    "print('Coefficients: ', reg.coef_)\n",
    "\n",
    "# variance score: 1 means perfect prediction\n",
    "print('Variance score: {}'.format(reg.score(X_test, y_test)))\n",
    "\n",
    "# plot for residual error\n",
    "\n",
    "## setting plot style\n",
    "plt.style.use('fivethirtyeight')\n",
    "\n",
    "## plotting residual errors in training data\n",
    "plt.scatter(reg.predict(X_train), reg.predict(X_train) - y_train,\n",
    "            color = \"green\", s = 10, label = 'Train data')\n",
    "\n",
    "## plotting residual errors in test data\n",
    "plt.scatter(reg.predict(X_test), reg.predict(X_test) - y_test,\n",
    "            color = \"blue\", s = 10, label = 'Test data')\n",
    "\n",
    "## plotting line for zero residual error\n",
    "plt.hlines(y = 0, xmin = 0, xmax = 50, linewidth = 2)\n",
    "\n",
    "## plotting legend\n",
    "plt.legend(loc = 'upper right')\n",
    "\n",
    "## plot title\n",
    "plt.title(\"Residual errors\")\n",
    "\n",
    "## method call for showing the plot\n",
    "plt.show()"
   ]
  },
  {
   "cell_type": "code",
   "execution_count": null,
   "metadata": {
    "id": "gDcapfU-jZIM"
   },
   "outputs": [],
   "source": [
    "df_new = pd.read_csv('/content/Book1 linear.csv')"
   ]
  },
  {
   "cell_type": "code",
   "execution_count": null,
   "metadata": {
    "colab": {
     "base_uri": "https://localhost:8080/"
    },
    "id": "0d3bCRg0nY6g",
    "outputId": "eadd6ca9-68b0-4fd8-d390-9e6c64566c87"
   },
   "outputs": [
    {
     "name": "stdout",
     "output_type": "stream",
     "text": [
      "[[0.20714272]]\n"
     ]
    }
   ],
   "source": [
    "\n",
    "x_new = df_new[['CURVE1']]\n",
    "y_new = reg.predict(x_new)\n",
    "print(y_new)"
   ]
  },
  {
   "cell_type": "code",
   "execution_count": null,
   "metadata": {
    "colab": {
     "base_uri": "https://localhost:8080/"
    },
    "id": "0d3bCRg0nY6g",
    "outputId": "eadd6ca9-68b0-4fd8-d390-9e6c64566c87"
   },
   "outputs": [
    {
     "name": "stdout",
     "output_type": "stream",
     "text": [
      "[[0.20714272]]\n"
     ]
    }
   ],
   "source": [
    "\n",
    "x_new = df_new[['CURVE1']]\n",
    "y_new = reg.predict(x_new)\n",
    "print(y_new)"
   ]
  },
  {
   "cell_type": "code",
   "execution_count": 18,
   "metadata": {},
   "outputs": [],
   "source": [
    "filename='model1.sav'\n",
    "pickle.dump(reg,open(filename,'wb'))"
   ]
  },
  {
   "cell_type": "code",
   "execution_count": 17,
   "metadata": {
    "id": "p_kkRy9zs_Xt"
   },
   "outputs": [],
   "source": [
    "path = \"wc vs curve 2.csv\"\n",
    "df_bonus = pd.read_csv('C:/Users/Stephy/Desktop/FINAL_YEAR_PROJECT/datasets/cwr_dataset/wc vs curve 2.csv')"
   ]
  },
  {
   "cell_type": "code",
   "execution_count": 18,
   "metadata": {
    "colab": {
     "base_uri": "https://localhost:8080/",
     "height": 363
    },
    "id": "mI2iXrnWt1kW",
    "outputId": "7b864bca-3a84-426a-9c6c-325b4436ebb6"
   },
   "outputs": [
    {
     "data": {
      "text/html": [
       "<div>\n",
       "<style scoped>\n",
       "    .dataframe tbody tr th:only-of-type {\n",
       "        vertical-align: middle;\n",
       "    }\n",
       "\n",
       "    .dataframe tbody tr th {\n",
       "        vertical-align: top;\n",
       "    }\n",
       "\n",
       "    .dataframe thead th {\n",
       "        text-align: right;\n",
       "    }\n",
       "</style>\n",
       "<table border=\"1\" class=\"dataframe\">\n",
       "  <thead>\n",
       "    <tr style=\"text-align: right;\">\n",
       "      <th></th>\n",
       "      <th>W/C</th>\n",
       "      <th>CURVE2</th>\n",
       "    </tr>\n",
       "  </thead>\n",
       "  <tbody>\n",
       "    <tr>\n",
       "      <th>0</th>\n",
       "      <td>0.247830</td>\n",
       "      <td>65.742574</td>\n",
       "    </tr>\n",
       "    <tr>\n",
       "      <th>1</th>\n",
       "      <td>0.262297</td>\n",
       "      <td>62.732673</td>\n",
       "    </tr>\n",
       "    <tr>\n",
       "      <th>2</th>\n",
       "      <td>0.270000</td>\n",
       "      <td>60.198020</td>\n",
       "    </tr>\n",
       "    <tr>\n",
       "      <th>3</th>\n",
       "      <td>0.281103</td>\n",
       "      <td>58.297030</td>\n",
       "    </tr>\n",
       "    <tr>\n",
       "      <th>4</th>\n",
       "      <td>0.299910</td>\n",
       "      <td>56.396040</td>\n",
       "    </tr>\n",
       "    <tr>\n",
       "      <th>5</th>\n",
       "      <td>0.318716</td>\n",
       "      <td>52.910891</td>\n",
       "    </tr>\n",
       "    <tr>\n",
       "      <th>6</th>\n",
       "      <td>0.335353</td>\n",
       "      <td>50.059406</td>\n",
       "    </tr>\n",
       "    <tr>\n",
       "      <th>7</th>\n",
       "      <td>0.349096</td>\n",
       "      <td>48.475248</td>\n",
       "    </tr>\n",
       "    <tr>\n",
       "      <th>8</th>\n",
       "      <td>0.366456</td>\n",
       "      <td>45.306931</td>\n",
       "    </tr>\n",
       "    <tr>\n",
       "      <th>9</th>\n",
       "      <td>0.381646</td>\n",
       "      <td>43.405941</td>\n",
       "    </tr>\n",
       "  </tbody>\n",
       "</table>\n",
       "</div>"
      ],
      "text/plain": [
       "        W/C     CURVE2\n",
       "0  0.247830  65.742574\n",
       "1  0.262297  62.732673\n",
       "2  0.270000  60.198020\n",
       "3  0.281103  58.297030\n",
       "4  0.299910  56.396040\n",
       "5  0.318716  52.910891\n",
       "6  0.335353  50.059406\n",
       "7  0.349096  48.475248\n",
       "8  0.366456  45.306931\n",
       "9  0.381646  43.405941"
      ]
     },
     "execution_count": 18,
     "metadata": {},
     "output_type": "execute_result"
    }
   ],
   "source": [
    "df_bonus.head(10)"
   ]
  },
  {
   "cell_type": "code",
   "execution_count": 21,
   "metadata": {
    "id": "a4g34EJht8zc"
   },
   "outputs": [],
   "source": [
    "x_data = df_bonus[['CURVE2']]\n",
    "y_data = df_bonus[['W/C']]"
   ]
  },
  {
   "cell_type": "code",
   "execution_count": 22,
   "metadata": {
    "id": "rvJJjZwfvSML"
   },
   "outputs": [],
   "source": [
    "from sklearn.model_selection import train_test_split\n",
    "X_train, X_test, y_train, y_test = train_test_split(x_data, y_data, test_size=0.4,\n",
    "                                                    random_state=1)"
   ]
  },
  {
   "cell_type": "code",
   "execution_count": 23,
   "metadata": {
    "colab": {
     "base_uri": "https://localhost:8080/",
     "height": 514
    },
    "id": "iCuYvO_Rvglk",
    "outputId": "420afd5c-b37b-4408-fa09-e0f9b71ad7c8"
   },
   "outputs": [
    {
     "name": "stdout",
     "output_type": "stream",
     "text": [
      "Coefficients:  [[-0.00860231]]\n",
      "Variance score: 0.9878478069853901\n"
     ]
    },
    {
     "data": {
      "image/png": "[encoded data removed]",
      "text/plain": [
       "<Figure size 640x480 with 1 Axes>"
      ]
     },
     "metadata": {},
     "output_type": "display_data"
    }
   ],
   "source": [
    "# create linear regression object\n",
    "reg = linear_model.LinearRegression()\n",
    "\n",
    "# train the model using the training sets\n",
    "reg.fit(X_train, y_train)\n",
    "\n",
    "# regression coefficients\n",
    "print('Coefficients: ', reg.coef_)\n",
    "\n",
    "# variance score: 1 means perfect prediction\n",
    "print('Variance score: {}'.format(reg.score(X_test, y_test)))\n",
    "\n",
    "# plot for residual error\n",
    "\n",
    "## setting plot style\n",
    "plt.style.use('fivethirtyeight')\n",
    "\n",
    "## plotting residual errors in training data\n",
    "plt.scatter(reg.predict(X_train), reg.predict(X_train) - y_train,\n",
    "            color = \"green\", s = 10, label = 'Train data')\n",
    "\n",
    "## plotting residual errors in test data\n",
    "plt.scatter(reg.predict(X_test), reg.predict(X_test) - y_test,\n",
    "            color = \"blue\", s = 10, label = 'Test data')\n",
    "\n",
    "## plotting line for zero residual error\n",
    "plt.hlines(y = 0, xmin = 0, xmax = 50, linewidth = 2)\n",
    "\n",
    "## plotting legend\n",
    "plt.legend(loc = 'upper right')\n",
    "\n",
    "## plot title\n",
    "plt.title(\"Residual errors\")\n",
    "\n",
    "## method call for showing the plot\n",
    "plt.show()"
   ]
  },
  {
   "cell_type": "code",
   "execution_count": 18,
   "metadata": {},
   "outputs": [],
   "source": [
    "filename='model2.sav'\n",
    "pickle.dump(reg,open(filename,'wb'))"
   ]
  },
  {
   "cell_type": "code",
   "execution_count": 27,
   "metadata": {
    "id": "p_kkRy9zs_Xt"
   },
   "outputs": [],
   "source": [
    "path = \"wc vs curve 3.csv\"\n",
    "df_bonus = pd.read_csv('C:/Users/Stephy/Desktop/FINAL_YEAR_PROJECT/datasets/cwr_dataset/w_vs_curve_3.csv')"
   ]
  },
  {
   "cell_type": "code",
   "execution_count": 28,
   "metadata": {
    "colab": {
     "base_uri": "https://localhost:8080/",
     "height": 363
    },
    "id": "mI2iXrnWt1kW",
    "outputId": "7b864bca-3a84-426a-9c6c-325b4436ebb6"
   },
   "outputs": [
    {
     "data": {
      "text/html": [
       "<div>\n",
       "<style scoped>\n",
       "    .dataframe tbody tr th:only-of-type {\n",
       "        vertical-align: middle;\n",
       "    }\n",
       "\n",
       "    .dataframe tbody tr th {\n",
       "        vertical-align: top;\n",
       "    }\n",
       "\n",
       "    .dataframe thead th {\n",
       "        text-align: right;\n",
       "    }\n",
       "</style>\n",
       "<table border=\"1\" class=\"dataframe\">\n",
       "  <thead>\n",
       "    <tr style=\"text-align: right;\">\n",
       "      <th></th>\n",
       "      <th>W/C</th>\n",
       "      <th>CURVE3</th>\n",
       "    </tr>\n",
       "  </thead>\n",
       "  <tbody>\n",
       "    <tr>\n",
       "      <th>0</th>\n",
       "      <td>0.247830</td>\n",
       "      <td>74.297030</td>\n",
       "    </tr>\n",
       "    <tr>\n",
       "      <th>1</th>\n",
       "      <td>0.262297</td>\n",
       "      <td>72.396040</td>\n",
       "    </tr>\n",
       "    <tr>\n",
       "      <th>2</th>\n",
       "      <td>0.270000</td>\n",
       "      <td>70.019802</td>\n",
       "    </tr>\n",
       "    <tr>\n",
       "      <th>3</th>\n",
       "      <td>0.281103</td>\n",
       "      <td>67.168317</td>\n",
       "    </tr>\n",
       "    <tr>\n",
       "      <th>4</th>\n",
       "      <td>0.299910</td>\n",
       "      <td>64.950495</td>\n",
       "    </tr>\n",
       "    <tr>\n",
       "      <th>5</th>\n",
       "      <td>0.318716</td>\n",
       "      <td>60.039604</td>\n",
       "    </tr>\n",
       "    <tr>\n",
       "      <th>6</th>\n",
       "      <td>0.335353</td>\n",
       "      <td>57.980198</td>\n",
       "    </tr>\n",
       "    <tr>\n",
       "      <th>7</th>\n",
       "      <td>0.349096</td>\n",
       "      <td>56.396040</td>\n",
       "    </tr>\n",
       "    <tr>\n",
       "      <th>8</th>\n",
       "      <td>0.366456</td>\n",
       "      <td>53.227723</td>\n",
       "    </tr>\n",
       "    <tr>\n",
       "      <th>9</th>\n",
       "      <td>0.381646</td>\n",
       "      <td>50.059406</td>\n",
       "    </tr>\n",
       "  </tbody>\n",
       "</table>\n",
       "</div>"
      ],
      "text/plain": [
       "        W/C     CURVE3\n",
       "0  0.247830  74.297030\n",
       "1  0.262297  72.396040\n",
       "2  0.270000  70.019802\n",
       "3  0.281103  67.168317\n",
       "4  0.299910  64.950495\n",
       "5  0.318716  60.039604\n",
       "6  0.335353  57.980198\n",
       "7  0.349096  56.396040\n",
       "8  0.366456  53.227723\n",
       "9  0.381646  50.059406"
      ]
     },
     "execution_count": 28,
     "metadata": {},
     "output_type": "execute_result"
    }
   ],
   "source": [
    "df_bonus.head(10)"
   ]
  },
  {
   "cell_type": "code",
   "execution_count": 29,
   "metadata": {
    "id": "a4g34EJht8zc"
   },
   "outputs": [],
   "source": [
    "x_data = df_bonus[['CURVE3']]\n",
    "y_data = df_bonus[['W/C']]"
   ]
  },
  {
   "cell_type": "code",
   "execution_count": 30,
   "metadata": {
    "id": "rvJJjZwfvSML"
   },
   "outputs": [],
   "source": [
    "from sklearn.model_selection import train_test_split\n",
    "X_train, X_test, y_train, y_test = train_test_split(x_data, y_data, test_size=0.4,\n",
    "                                                    random_state=1)"
   ]
  },
  {
   "cell_type": "code",
   "execution_count": 31,
   "metadata": {
    "colab": {
     "base_uri": "https://localhost:8080/",
     "height": 514
    },
    "id": "iCuYvO_Rvglk",
    "outputId": "420afd5c-b37b-4408-fa09-e0f9b71ad7c8"
   },
   "outputs": [
    {
     "name": "stdout",
     "output_type": "stream",
     "text": [
      "Coefficients:  [[-0.00809083]]\n",
      "Variance score: 0.9854508877057278\n"
     ]
    },
    {
     "data": {
      "image/png": "[encoded data removed]",
      "text/plain": [
       "<Figure size 640x480 with 1 Axes>"
      ]
     },
     "metadata": {},
     "output_type": "display_data"
    }
   ],
   "source": [
    "# create linear regression object\n",
    "reg = linear_model.LinearRegression()\n",
    "\n",
    "# train the model using the training sets\n",
    "reg.fit(X_train, y_train)\n",
    "\n",
    "# regression coefficients\n",
    "print('Coefficients: ', reg.coef_)\n",
    "\n",
    "# variance score: 1 means perfect prediction\n",
    "print('Variance score: {}'.format(reg.score(X_test, y_test)))\n",
    "\n",
    "# plot for residual error\n",
    "\n",
    "## setting plot style\n",
    "plt.style.use('fivethirtyeight')\n",
    "\n",
    "## plotting residual errors in training data\n",
    "plt.scatter(reg.predict(X_train), reg.predict(X_train) - y_train,\n",
    "            color = \"green\", s = 10, label = 'Train data')\n",
    "\n",
    "## plotting residual errors in test data\n",
    "plt.scatter(reg.predict(X_test), reg.predict(X_test) - y_test,\n",
    "            color = \"blue\", s = 10, label = 'Test data')\n",
    "\n",
    "## plotting line for zero residual error\n",
    "plt.hlines(y = 0, xmin = 0, xmax = 50, linewidth = 2)\n",
    "\n",
    "## plotting legend\n",
    "plt.legend(loc = 'upper right')\n",
    "\n",
    "## plot title\n",
    "plt.title(\"Residual errors\")\n",
    "\n",
    "## method call for showing the plot\n",
    "plt.show()"
   ]
  },
  {
   "cell_type": "code",
   "execution_count": 18,
   "metadata": {},
   "outputs": [],
   "source": [
    "filename='model3.sav'\n",
    "pickle.dump(reg,open(filename,'wb'))"
   ]
  },
  {
   "cell_type": "code",
   "execution_count": null,
   "metadata": {
    "colab": {
     "base_uri": "https://localhost:8080/"
    },
    "id": "0d3bCRg0nY6g",
    "outputId": "eadd6ca9-68b0-4fd8-d390-9e6c64566c87"
   },
   "outputs": [],
   "source": []
  }
 ],
 "metadata": {
  "colab": {
   "provenance": []
  },
  "kernelspec": {
   "display_name": "Python 3 (ipykernel)",
   "language": "python",
   "name": "python3"
  },
  "language_info": {
   "codemirror_mode": {
    "name": "ipython",
    "version": 3
   },
   "file_extension": ".py",
   "mimetype": "text/x-python",
   "name": "python",
   "nbconvert_exporter": "python",
   "pygments_lexer": "ipython3",
   "version": "3.12.2"
  }
 },
 "nbformat": 4,
 "nbformat_minor": 4
}
